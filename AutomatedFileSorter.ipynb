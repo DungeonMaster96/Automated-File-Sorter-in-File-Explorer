{
 "cells": [
  {
   "cell_type": "markdown",
   "id": "41a7a0ba",
   "metadata": {},
   "source": [
    "# Automated File Sorter in File Explorer"
   ]
  },
  {
   "cell_type": "code",
   "execution_count": 41,
   "id": "386de278",
   "metadata": {},
   "outputs": [],
   "source": [
    "import os,shutil"
   ]
  },
  {
   "cell_type": "code",
   "execution_count": 42,
   "id": "94a9d948",
   "metadata": {},
   "outputs": [],
   "source": [
    "path = r\"C:/Users/aryenkumar/OneDrive/Desktop/PythonTutorial/\""
   ]
  },
  {
   "cell_type": "code",
   "execution_count": null,
   "id": "cf53d21c",
   "metadata": {},
   "outputs": [],
   "source": []
  },
  {
   "cell_type": "code",
   "execution_count": 43,
   "id": "caab8781",
   "metadata": {},
   "outputs": [
    {
     "data": {
      "text/plain": [
       "['8601495.jpg',\n",
       " 'annual-enterprise-survey-2023-financial-year-provisional.csv',\n",
       " 'cute-shepherd-dog-posing-isolated-white-background.jpg',\n",
       " 'sample3.txt']"
      ]
     },
     "execution_count": 43,
     "metadata": {},
     "output_type": "execute_result"
    }
   ],
   "source": [
    "os.listdir(path)"
   ]
  },
  {
   "cell_type": "code",
   "execution_count": 44,
   "id": "355d8cbc",
   "metadata": {},
   "outputs": [
    {
     "data": {
      "text/plain": [
       "False"
      ]
     },
     "execution_count": 44,
     "metadata": {},
     "output_type": "execute_result"
    }
   ],
   "source": [
    "os.path.exists(path + 'csv')"
   ]
  },
  {
   "cell_type": "code",
   "execution_count": 45,
   "id": "7c03c125",
   "metadata": {},
   "outputs": [],
   "source": [
    "file_name = os.listdir(path)"
   ]
  },
  {
   "cell_type": "code",
   "execution_count": 46,
   "id": "e7a5fbe4",
   "metadata": {},
   "outputs": [
    {
     "name": "stdout",
     "output_type": "stream",
     "text": [
      "C:/Users/aryenkumar/OneDrive/Desktop/PythonTutorial/csv files\n",
      "C:/Users/aryenkumar/OneDrive/Desktop/PythonTutorial/image files\n",
      "C:/Users/aryenkumar/OneDrive/Desktop/PythonTutorial/text files\n"
     ]
    }
   ],
   "source": [
    "folder_names = ['csv files', 'image files', 'text files']\n",
    "\n",
    "for loop in range(0,3):\n",
    "    if not os.path.exists(path + folder_names[loop]):\n",
    "        print(path + folder_names[loop])\n",
    "        os.makedirs(path + folder_names[loop])\n",
    "        \n",
    "for file in file_name:\n",
    "    if \".csv\" in file and not os.path.exists(path + \"csv files/\" + file):\n",
    "        shutil.move(path+file, path + \"csv files/\" + file)\n",
    "    elif \".jpg\" in file and not os.path.exists(path + \"image files/\" + file):\n",
    "        shutil.move(path+file, path + \"image files/\" + file)\n",
    "    elif \".txt\" in file and not os.path.exists(path + \"text files/\" + file):\n",
    "        shutil.move(path+file, path + \"text files/\" + file)\n",
    "    else:\n",
    "        print(\"There are files in this path that cannot be moved\")"
   ]
  },
  {
   "cell_type": "code",
   "execution_count": 34,
   "id": "3ffdda6a",
   "metadata": {},
   "outputs": [],
   "source": []
  }
 ],
 "metadata": {
  "kernelspec": {
   "display_name": "Python 3 (ipykernel)",
   "language": "python",
   "name": "python3"
  },
  "language_info": {
   "codemirror_mode": {
    "name": "ipython",
    "version": 3
   },
   "file_extension": ".py",
   "mimetype": "text/x-python",
   "name": "python",
   "nbconvert_exporter": "python",
   "pygments_lexer": "ipython3",
   "version": "3.11.5"
  }
 },
 "nbformat": 4,
 "nbformat_minor": 5
}
